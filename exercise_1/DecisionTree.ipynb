{
 "cells": [
  {
   "cell_type": "code",
   "execution_count": 1,
   "metadata": {
    "ExecuteTime": {
     "end_time": "2018-10-28T16:14:16.229084Z",
     "start_time": "2018-10-28T16:14:05.334230Z"
    }
   },
   "outputs": [],
   "source": [
    "import pandas as pd\n",
    "import numpy as np\n",
    "from typing import NewType\n",
    "from collections import Counter\n",
    "from sklearn import datasets\n",
    "from sklearn.model_selection import train_test_split\n",
    "from sklearn.metrics import accuracy_score\n",
    "from graphviz import Digraph"
   ]
  },
  {
   "cell_type": "markdown",
   "metadata": {
    "ExecuteTime": {
     "end_time": "2018-10-22T20:29:38.051093Z",
     "start_time": "2018-10-22T20:29:38.047185Z"
    }
   },
   "source": [
    "### Iris dataset"
   ]
  },
  {
   "cell_type": "code",
   "execution_count": 37,
   "metadata": {
    "ExecuteTime": {
     "end_time": "2018-10-24T18:47:53.128913Z",
     "start_time": "2018-10-24T18:47:53.070729Z"
    }
   },
   "outputs": [],
   "source": [
    "iris = datasets.load_iris()\n",
    "X = iris.data[:, :3] \n",
    "y = iris.target\n",
    "X_train, X_test, y_train, y_test = train_test_split(X, y, test_size=0.25, random_state=123)"
   ]
  },
  {
   "cell_type": "markdown",
   "metadata": {},
   "source": [
    "### HW dataset"
   ]
  },
  {
   "cell_type": "code",
   "execution_count": 2,
   "metadata": {
    "ExecuteTime": {
     "end_time": "2018-10-28T16:14:27.294976Z",
     "start_time": "2018-10-28T16:14:26.539354Z"
    }
   },
   "outputs": [],
   "source": [
    "data = pd.read_csv(\"../datasets/01_homework_dataset.csv\")\n",
    "X = np.array(data.loc[:, data.columns[:3]])\n",
    "y = np.array(data.loc[:, data.columns[3]])\n",
    "x_a = np.array([4.1, 0.1, 2.2])\n",
    "x_b = np.array([6.1, 0.4, 1.3])"
   ]
  },
  {
   "cell_type": "code",
   "execution_count": 3,
   "metadata": {
    "ExecuteTime": {
     "end_time": "2018-10-28T16:14:28.172402Z",
     "start_time": "2018-10-28T16:14:27.955378Z"
    }
   },
   "outputs": [
    {
     "data": {
      "text/html": [
       "<div>\n",
       "<style scoped>\n",
       "    .dataframe tbody tr th:only-of-type {\n",
       "        vertical-align: middle;\n",
       "    }\n",
       "\n",
       "    .dataframe tbody tr th {\n",
       "        vertical-align: top;\n",
       "    }\n",
       "\n",
       "    .dataframe thead th {\n",
       "        text-align: right;\n",
       "    }\n",
       "</style>\n",
       "<table border=\"1\" class=\"dataframe\">\n",
       "  <thead>\n",
       "    <tr style=\"text-align: right;\">\n",
       "      <th></th>\n",
       "      <th>x1</th>\n",
       "      <th>x2</th>\n",
       "      <th>x3</th>\n",
       "      <th>z</th>\n",
       "    </tr>\n",
       "  </thead>\n",
       "  <tbody>\n",
       "    <tr>\n",
       "      <th>0</th>\n",
       "      <td>5.5</td>\n",
       "      <td>0.5</td>\n",
       "      <td>4.5</td>\n",
       "      <td>2</td>\n",
       "    </tr>\n",
       "    <tr>\n",
       "      <th>1</th>\n",
       "      <td>7.4</td>\n",
       "      <td>1.1</td>\n",
       "      <td>3.6</td>\n",
       "      <td>0</td>\n",
       "    </tr>\n",
       "    <tr>\n",
       "      <th>2</th>\n",
       "      <td>5.9</td>\n",
       "      <td>0.2</td>\n",
       "      <td>3.4</td>\n",
       "      <td>2</td>\n",
       "    </tr>\n",
       "    <tr>\n",
       "      <th>3</th>\n",
       "      <td>9.9</td>\n",
       "      <td>0.1</td>\n",
       "      <td>0.8</td>\n",
       "      <td>0</td>\n",
       "    </tr>\n",
       "    <tr>\n",
       "      <th>4</th>\n",
       "      <td>6.9</td>\n",
       "      <td>-0.1</td>\n",
       "      <td>0.6</td>\n",
       "      <td>2</td>\n",
       "    </tr>\n",
       "    <tr>\n",
       "      <th>5</th>\n",
       "      <td>6.8</td>\n",
       "      <td>-0.3</td>\n",
       "      <td>5.1</td>\n",
       "      <td>2</td>\n",
       "    </tr>\n",
       "    <tr>\n",
       "      <th>6</th>\n",
       "      <td>4.1</td>\n",
       "      <td>0.3</td>\n",
       "      <td>5.1</td>\n",
       "      <td>1</td>\n",
       "    </tr>\n",
       "    <tr>\n",
       "      <th>7</th>\n",
       "      <td>1.3</td>\n",
       "      <td>-0.2</td>\n",
       "      <td>1.8</td>\n",
       "      <td>1</td>\n",
       "    </tr>\n",
       "    <tr>\n",
       "      <th>8</th>\n",
       "      <td>4.5</td>\n",
       "      <td>0.4</td>\n",
       "      <td>2.0</td>\n",
       "      <td>0</td>\n",
       "    </tr>\n",
       "    <tr>\n",
       "      <th>9</th>\n",
       "      <td>0.5</td>\n",
       "      <td>0.0</td>\n",
       "      <td>2.3</td>\n",
       "      <td>1</td>\n",
       "    </tr>\n",
       "    <tr>\n",
       "      <th>10</th>\n",
       "      <td>5.9</td>\n",
       "      <td>-0.1</td>\n",
       "      <td>4.4</td>\n",
       "      <td>0</td>\n",
       "    </tr>\n",
       "    <tr>\n",
       "      <th>11</th>\n",
       "      <td>9.3</td>\n",
       "      <td>-0.2</td>\n",
       "      <td>3.2</td>\n",
       "      <td>0</td>\n",
       "    </tr>\n",
       "    <tr>\n",
       "      <th>12</th>\n",
       "      <td>1.0</td>\n",
       "      <td>0.1</td>\n",
       "      <td>2.8</td>\n",
       "      <td>1</td>\n",
       "    </tr>\n",
       "    <tr>\n",
       "      <th>13</th>\n",
       "      <td>0.4</td>\n",
       "      <td>0.1</td>\n",
       "      <td>4.3</td>\n",
       "      <td>1</td>\n",
       "    </tr>\n",
       "    <tr>\n",
       "      <th>14</th>\n",
       "      <td>2.7</td>\n",
       "      <td>-0.5</td>\n",
       "      <td>4.2</td>\n",
       "      <td>1</td>\n",
       "    </tr>\n",
       "  </tbody>\n",
       "</table>\n",
       "</div>"
      ],
      "text/plain": [
       "     x1   x2   x3   z\n",
       "0   5.5  0.5  4.5   2\n",
       "1   7.4  1.1  3.6   0\n",
       "2   5.9  0.2  3.4   2\n",
       "3   9.9  0.1  0.8   0\n",
       "4   6.9 -0.1  0.6   2\n",
       "5   6.8 -0.3  5.1   2\n",
       "6   4.1  0.3  5.1   1\n",
       "7   1.3 -0.2  1.8   1\n",
       "8   4.5  0.4  2.0   0\n",
       "9   0.5  0.0  2.3   1\n",
       "10  5.9 -0.1  4.4   0\n",
       "11  9.3 -0.2  3.2   0\n",
       "12  1.0  0.1  2.8   1\n",
       "13  0.4  0.1  4.3   1\n",
       "14  2.7 -0.5  4.2   1"
      ]
     },
     "execution_count": 3,
     "metadata": {},
     "output_type": "execute_result"
    }
   ],
   "source": [
    "data"
   ]
  },
  {
   "cell_type": "code",
   "execution_count": 4,
   "metadata": {
    "ExecuteTime": {
     "end_time": "2018-10-28T16:14:30.204858Z",
     "start_time": "2018-10-28T16:14:30.187536Z"
    }
   },
   "outputs": [],
   "source": [
    "class Node:\n",
    "    def __init__(self):\n",
    "        self.prediction = None\n",
    "        self.gini = None\n",
    "        self.j_ast = None\n",
    "        self.t_ast = None\n",
    "        self.right = None\n",
    "        self.left = None\n",
    "        \n",
    "    def __repr__(self):\n",
    "        return f\"Predictions: {self.prediction} \\n Gini: {self.gini}\\n J*: {self.j_ast}\\n  Trashhold: {self.t_ast} \\n Right: {self.right} \\n Left: {self.left} \\n\""
   ]
  },
  {
   "cell_type": "code",
   "execution_count": 5,
   "metadata": {
    "ExecuteTime": {
     "end_time": "2018-10-28T16:14:31.628946Z",
     "start_time": "2018-10-28T16:14:31.315575Z"
    }
   },
   "outputs": [],
   "source": [
    "NodeType = NewType(\"NodeType\", Node)"
   ]
  },
  {
   "cell_type": "code",
   "execution_count": 12,
   "metadata": {
    "ExecuteTime": {
     "end_time": "2018-10-28T16:16:34.550785Z",
     "start_time": "2018-10-28T16:16:34.506134Z"
    }
   },
   "outputs": [],
   "source": [
    "class Tree:\n",
    "    def __init__(self):\n",
    "        self.node = None\n",
    "    \n",
    "    @staticmethod\n",
    "    def gini(probs) -> float:\n",
    "        return 1 - np.sum(probs**2)\n",
    "    \n",
    "    @staticmethod\n",
    "    def get_probabilities(y: np.array) -> np.array:\n",
    "        _, counts = np.unique(y, return_counts=True)\n",
    "        return np.true_divide(counts, np.sum(counts))\n",
    "    \n",
    "    @staticmethod\n",
    "    def split(D: np.array, y: np.array) -> tuple:\n",
    "        n, m = D.shape[0], D.shape[1]\n",
    "        gini_min, j_ast, t_ast, D_l, D_r , y_l, y_r = [float(\"inf\")] + [None]*6\n",
    "        for j in range(m):\n",
    "            for i in range(n):\n",
    "                trashhold = D[i,j]\n",
    "                indexes = D[:,j] < trashhold\n",
    "                probs_le, probs_ge = Tree.get_probabilities(y[indexes]), Tree.get_probabilities(y[~indexes])\n",
    "                gini_le, gini_ge = Tree.gini(probs_le), Tree.gini(probs_ge)\n",
    "                if (gini_le + gini_ge) < gini_min:\n",
    "                    gini_min = gini_le + gini_ge\n",
    "                    j_ast = j\n",
    "                    t_ast = trashhold\n",
    "                    D_l = D[indexes]\n",
    "                    D_r = D[~indexes]\n",
    "                    y_l = y[indexes]\n",
    "                    y_r = y[~indexes]\n",
    "        return j_ast, t_ast, D_l, D_r, y_l, y_r, gini_min\n",
    "        \n",
    "    @staticmethod\n",
    "    def fitTree(node: NodeType, D: np.array, y: np.array, depth:int) -> NodeType:\n",
    "        node.prediction = Counter(y)\n",
    "        if (depth == 2) or (len(node.prediction) == 1):\n",
    "            return node\n",
    "        else:\n",
    "            j_ast, t_ast, D_l, D_r, y_l, y_r, gini_min = Tree.split(D, y)\n",
    "            node.gini = gini_min\n",
    "            node.j_ast = j_ast\n",
    "            node.t_ast = t_ast\n",
    "            node.left = Tree.fitTree(Node(), D_l, y_l, depth + 1)\n",
    "            node.right = Tree.fitTree(Node(), D_r, y_r, depth + 1)\n",
    "            return node\n",
    "    \n",
    "    def fit(self, X, y):\n",
    "        self.node = Node()\n",
    "        self.node = self.fitTree(self.node, X, y, depth=0)\n",
    "        \n",
    "    @staticmethod\n",
    "    def predict_element(node, x_new):\n",
    "        if (node.right == None) & (node.left == None):\n",
    "            return max(node.prediction, key=node.prediction.get)\n",
    "        if x_new[node.j_ast] <= node.t_ast:\n",
    "            return Tree.predict_element(node.left, x_new)\n",
    "        elif x_new[node.j_ast] > node.t_ast:\n",
    "            return Tree.predict_element(node.right, x_new)\n",
    "    \n",
    "    def predict(self, X_new):\n",
    "        result = np.array([])\n",
    "        for x_new in X_new:\n",
    "            result = np.append(result, Tree.predict_element(self.node, x_new))\n",
    "        return result\n",
    "\n",
    "    def visualize_node(self, node, node_number):\n",
    "        if not (node.left is None and node.right is None):\n",
    "            self.g.node(str(int(node_number)), \n",
    "                        label=r'x_{} {} {} \\n G: {} \\n {}'.\\\n",
    "                                format(node.j_ast, '<', node.t_ast, node.gini, node.prediction))\n",
    "            self.visualize_node(node.left, 2 * node_number + 1)\n",
    "            self.visualize_node(node.right, 2 * node_number + 2)\n",
    "            if node_number != 0:\n",
    "                self.g.edge(str((node_number - 1) // 2), str(int(node_number)))\n",
    "        else:\n",
    "            self.g.node(str(int(node_number)), label=r'{}'.format(node.prediction))\n",
    "            self.g.edge(str((node_number - 1) // 2), str(int(node_number)))\n",
    "\n",
    "    def export_to_graphviz(self, filename='test-output/round-table.gv'):\n",
    "        self.g = Digraph('DT', format='png')\n",
    "        node = self.node\n",
    "        self.visualize_node(node, 0)\n",
    "        self.g.render(filename, view=True) "
   ]
  },
  {
   "cell_type": "markdown",
   "metadata": {},
   "source": [
    "### Problem 2"
   ]
  },
  {
   "cell_type": "code",
   "execution_count": 13,
   "metadata": {
    "ExecuteTime": {
     "end_time": "2018-10-28T16:16:37.136928Z",
     "start_time": "2018-10-28T16:16:37.129631Z"
    }
   },
   "outputs": [],
   "source": [
    "tree = Tree()"
   ]
  },
  {
   "cell_type": "code",
   "execution_count": 14,
   "metadata": {
    "ExecuteTime": {
     "end_time": "2018-10-28T16:16:37.508468Z",
     "start_time": "2018-10-28T16:16:37.422229Z"
    }
   },
   "outputs": [],
   "source": [
    "tree.fit(X,y)"
   ]
  },
  {
   "cell_type": "code",
   "execution_count": 15,
   "metadata": {
    "ExecuteTime": {
     "end_time": "2018-10-28T16:16:37.753127Z",
     "start_time": "2018-10-28T16:16:37.748118Z"
    }
   },
   "outputs": [
    {
     "name": "stdout",
     "output_type": "stream",
     "text": [
      "Predictions: Counter({1: 6, 0: 5, 2: 4}) \n",
      " Gini: 0.49382716049382713\n",
      " J*: 0\n",
      "  Trashhold: 4.5 \n",
      " Right: Predictions: Counter({0: 5, 2: 4}) \n",
      " Gini: 0.40816326530612246\n",
      " J*: 2\n",
      "  Trashhold: 4.5 \n",
      " Right: Predictions: Counter({2: 2}) \n",
      " Gini: None\n",
      " J*: None\n",
      "  Trashhold: None \n",
      " Right: None \n",
      " Left: None \n",
      " \n",
      " Left: Predictions: Counter({0: 5, 2: 2}) \n",
      " Gini: None\n",
      " J*: None\n",
      "  Trashhold: None \n",
      " Right: None \n",
      " Left: None \n",
      " \n",
      " \n",
      " Left: Predictions: Counter({1: 6}) \n",
      " Gini: None\n",
      " J*: None\n",
      "  Trashhold: None \n",
      " Right: None \n",
      " Left: None \n",
      " \n",
      "\n"
     ]
    }
   ],
   "source": [
    "print(tree.node)"
   ]
  },
  {
   "cell_type": "code",
   "execution_count": null,
   "metadata": {
    "ExecuteTime": {
     "start_time": "2018-10-28T16:16:38.299Z"
    }
   },
   "outputs": [],
   "source": [
    "tree.export_to_graphviz()"
   ]
  },
  {
   "cell_type": "code",
   "execution_count": null,
   "metadata": {
    "ExecuteTime": {
     "start_time": "2018-10-28T16:16:38.837Z"
    }
   },
   "outputs": [],
   "source": [
    "tree.predict(np.array([x_a, x_b]))"
   ]
  },
  {
   "cell_type": "markdown",
   "metadata": {},
   "source": [
    "### Validation iris data"
   ]
  },
  {
   "cell_type": "code",
   "execution_count": 46,
   "metadata": {
    "ExecuteTime": {
     "end_time": "2018-10-24T18:47:59.714191Z",
     "start_time": "2018-10-24T18:47:59.708732Z"
    }
   },
   "outputs": [],
   "source": [
    "tree = Tree()"
   ]
  },
  {
   "cell_type": "code",
   "execution_count": null,
   "metadata": {},
   "outputs": [],
   "source": [
    "tree.fit(X_train, y_train)"
   ]
  },
  {
   "cell_type": "code",
   "execution_count": 48,
   "metadata": {
    "ExecuteTime": {
     "end_time": "2018-10-24T18:48:01.325315Z",
     "start_time": "2018-10-24T18:48:01.311510Z"
    }
   },
   "outputs": [
    {
     "name": "stdout",
     "output_type": "stream",
     "text": [
      "Accuracy 89.47368421052632%\n"
     ]
    }
   ],
   "source": [
    "y_predicted = tree.predict(X_test)\n",
    "print(f\"Accuracy {accuracy_score(y_test, y_predicted)*100}%\")"
   ]
  }
 ],
 "metadata": {
  "hide_input": false,
  "kernelspec": {
   "display_name": "Python 3",
   "language": "python",
   "name": "python3"
  },
  "language_info": {
   "codemirror_mode": {
    "name": "ipython",
    "version": 3
   },
   "file_extension": ".py",
   "mimetype": "text/x-python",
   "name": "python",
   "nbconvert_exporter": "python",
   "pygments_lexer": "ipython3",
   "version": "3.7.0"
  }
 },
 "nbformat": 4,
 "nbformat_minor": 2
}
